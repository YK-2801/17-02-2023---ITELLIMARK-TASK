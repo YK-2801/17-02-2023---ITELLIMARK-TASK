{
 "cells": [
  {
   "cell_type": "code",
   "execution_count": null,
   "id": "94eb78ba-c47c-42bb-a024-834f23e7ff96",
   "metadata": {},
   "outputs": [],
   "source": []
  },
  {
   "cell_type": "code",
   "execution_count": 24,
   "id": "9bd7db5c-e834-49f6-a4b9-50f0cff26a32",
   "metadata": {},
   "outputs": [
    {
     "name": "stderr",
     "output_type": "stream",
     "text": [
      "C:\\Users\\lenovo\\anaconda2\\Lib\\site-packages\\sklearn\\metrics\\_regression.py:483: FutureWarning: 'squared' is deprecated in version 1.4 and will be removed in 1.6. To calculate the root mean squared error, use the function'root_mean_squared_error'.\n",
      "  warnings.warn(\n"
     ]
    },
    {
     "name": "stdout",
     "output_type": "stream",
     "text": [
      "MAE: 762.3018525219941, RMSE: 1091.1696189598986, R2 Score: 0.5619336828005652\n",
      "[1612.381176 1224.466122  545.509914 ... 2235.15718  4751.295276\n",
      " 1490.113664]\n",
      "Predictions saved to test_predictions\n"
     ]
    }
   ],
   "source": [
    "import pandas as pd\n",
    "import numpy as np\n",
    "from sklearn.model_selection import train_test_split\n",
    "from sklearn.preprocessing import LabelEncoder\n",
    "from sklearn.ensemble import RandomForestRegressor\n",
    "from sklearn.metrics import mean_absolute_error, mean_squared_error, r2_score\n",
    "\n",
    "# Load datasets \n",
    "train_file = \"train.csv\" \n",
    "test_file = \"test.csv\"\n",
    "\n",
    "train_df = pd.read_csv(train_file)\n",
    "test_df = pd.read_csv(test_file)\n",
    "\n",
    "# Handle missing values\n",
    "train_df[\"Item_Weight\"] = train_df.groupby(\"Item_Identifier\")[\"Item_Weight\"].transform(lambda x: x.fillna(x.mean()))\n",
    "outlet_size_mode = train_df.groupby(\"Outlet_Type\")[\"Outlet_Size\"].apply(lambda x: x.mode().iloc[0])\n",
    "train_df[\"Outlet_Size\"] = train_df[\"Outlet_Size\"].fillna(train_df[\"Outlet_Type\"].map(outlet_size_mode))\n",
    "\n",
    "# Standardize categorical values\n",
    "train_df[\"Item_Fat_Content\"] = train_df[\"Item_Fat_Content\"].replace({\"LF\": \"Low Fat\", \"low fat\": \"Low Fat\", \"reg\": \"Regular\"})\n",
    "\n",
    "# Encode categorical variables\n",
    "encoder = LabelEncoder()\n",
    "\n",
    "categorical_cols = [\"Item_Fat_Content\", \"Outlet_Identifier\", \"Outlet_Size\", \"Outlet_Location_Type\", \"Outlet_Type\", \"Item_Type\"]\n",
    "for col in categorical_cols:\n",
    "    train_df[col] = encoder.fit_transform(train_df[col])\n",
    "train_df[\"Item_Identifier\"] = encoder.fit_transform(train_df[\"Item_Identifier\"])\n",
    "\n",
    "# Define features and target\n",
    "X = train_df.drop(columns=[\"Item_Outlet_Sales\"])\n",
    "y = train_df[\"Item_Outlet_Sales\"]\n",
    "\n",
    "# Split data for training and validation\n",
    "X_train, X_valid, y_train, y_valid = train_test_split(X, y, test_size=0.2, random_state=42)\n",
    "\n",
    "# Train Random Forest Model\n",
    "rf_model = RandomForestRegressor(n_estimators=100, random_state=42)\n",
    "rf_model.fit(X_train, y_train)\n",
    "\n",
    "# Predictions and evaluation\n",
    "y_pred = rf_model.predict(X_valid)\n",
    "mae = mean_absolute_error(y_valid, y_pred)\n",
    "rmse = mean_squared_error(y_valid, y_pred, squared=False)\n",
    "r2 = r2_score(y_valid, y_pred)\n",
    "\n",
    "print(f\"MAE: {mae}, RMSE: {rmse}, R2 Score: {r2}\")\n",
    "\n",
    "# Prepare test dataset for predictions\n",
    "test_df[\"Item_Weight\"] = test_df.groupby(\"Item_Identifier\")[\"Item_Weight\"].transform(lambda x: x.fillna(x.mean()))\n",
    "test_df[\"Outlet_Size\"] = test_df[\"Outlet_Size\"].fillna(test_df[\"Outlet_Type\"].map(outlet_size_mode))\n",
    "test_df[\"Item_Fat_Content\"] = test_df[\"Item_Fat_Content\"].replace({\"LF\": \"Low Fat\", \"low fat\": \"Low Fat\", \"reg\": \"Regular\"})\n",
    "for col in categorical_cols:\n",
    "    test_df[col] = encoder.fit_transform(test_df[col])\n",
    "test_df[\"Item_Identifier\"] = encoder.fit_transform(test_df[\"Item_Identifier\"])\n",
    "\n",
    "# Predict sales for test data\n",
    "test_predictions = rf_model.predict(test_df.drop(columns=[\"Item_Outlet_Sales\"], errors='ignore'))\n",
    "print(test_predictions)\n",
    "\n",
    "# Save predictions\n",
    "test_df[\"Item_Outlet_Sales\"] = test_predictions\n",
    "acc_submission_format = test_df[[\"Item_Identifier\",\"Outlet_Identifier\",\"Item_Outlet_Sales\"]]\n",
    "acc_submission_format.to_excel(\"test_predictions.xlsx\", index=False)\n",
    "print(\"Predictions saved to test_predictions\")"
   ]
  },
  {
   "cell_type": "code",
   "execution_count": null,
   "id": "74a24b08-1881-45fd-85d8-eb915a3f172b",
   "metadata": {},
   "outputs": [],
   "source": []
  },
  {
   "cell_type": "code",
   "execution_count": 19,
   "id": "57fe5d06-b95b-416b-8c54-d8d18f6d0d7f",
   "metadata": {},
   "outputs": [],
   "source": [
    "\n",
    "\n",
    "# Predict sales for \n",
    "acc_submission_format.to_csv(\"test_predictions.csv\", index=False)"
   ]
  },
  {
   "cell_type": "code",
   "execution_count": 21,
   "id": "05ff2098-3feb-4e9c-aad9-967bf86e5e2a",
   "metadata": {},
   "outputs": [
    {
     "data": {
      "text/plain": [
       "'C:\\\\Users\\\\lenovo\\\\new-python\\\\Sales_Project'"
      ]
     },
     "execution_count": 21,
     "metadata": {},
     "output_type": "execute_result"
    }
   ],
   "source": [
    "import os\n",
    "os.getcwd()"
   ]
  },
  {
   "cell_type": "code",
   "execution_count": null,
   "id": "774fbc7a-ce0d-47d1-8241-176db57793f6",
   "metadata": {},
   "outputs": [],
   "source": []
  }
 ],
 "metadata": {
  "kernelspec": {
   "display_name": "Python 3 (ipykernel)",
   "language": "python",
   "name": "python3"
  },
  "language_info": {
   "codemirror_mode": {
    "name": "ipython",
    "version": 3
   },
   "file_extension": ".py",
   "mimetype": "text/x-python",
   "name": "python",
   "nbconvert_exporter": "python",
   "pygments_lexer": "ipython3",
   "version": "3.12.4"
  }
 },
 "nbformat": 4,
 "nbformat_minor": 5
}
